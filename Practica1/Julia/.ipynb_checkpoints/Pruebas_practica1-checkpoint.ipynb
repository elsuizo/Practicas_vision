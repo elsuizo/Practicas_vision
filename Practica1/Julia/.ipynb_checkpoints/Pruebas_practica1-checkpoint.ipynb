{
 "metadata": {
  "name": "",
  "signature": "sha256:f7a3f8828c4323c924e6385688843bc259aadf7809edca90ca6c73d39df9bd59"
 },
 "nbformat": 3,
 "nbformat_minor": 0,
 "worksheets": []
}
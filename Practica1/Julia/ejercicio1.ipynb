{
 "metadata": {
  "language": "Julia",
  "name": "",
  "signature": "sha256:c55e484adeac61bc4763c263e8f9671d8501162d4d8cb6fd585d430cc8ea003c"
 },
 "nbformat": 3,
 "nbformat_minor": 0,
 "worksheets": [
  {
   "cells": [
    {
     "cell_type": "markdown",
     "metadata": {},
     "source": [
      "##Ejercicio 1\n",
      "Adquirir 3 im\u00e1genes en tonalidades de gris de 2 objetos distintos con iluminaci\u00f3n de intensidad baja, media y alta (total: 6 im\u00e1genes)."
     ]
    },
    {
     "cell_type": "code",
     "collapsed": false,
     "input": [
      "import Images, ImageView, Color"
     ],
     "language": "python",
     "metadata": {},
     "outputs": [],
     "prompt_number": 3
    },
    {
     "cell_type": "code",
     "collapsed": false,
     "input": [
      "import PyPlot"
     ],
     "language": "python",
     "metadata": {},
     "outputs": [
      {
       "output_type": "stream",
       "stream": "stderr",
       "text": [
        "INFO: Loading help data...\n"
       ]
      }
     ],
     "prompt_number": 4
    },
    {
     "cell_type": "code",
     "collapsed": false,
     "input": [
      "path1 = \"../Imagenes/sci-2.bmp\";\n",
      "path2 = \"../Imagenes/sci-3.bmp\";\n",
      "path3 = \"../Imagenes/sci-4.bmp\";\n",
      "path4 = \"../Imagenes/tar-5.bmp\";\n",
      "path5 = \"../Imagenes/tar-6.bmp\";\n",
      "path6 = \"../Imagenes/tar-7.bmp\";"
     ],
     "language": "python",
     "metadata": {},
     "outputs": [],
     "prompt_number": 3
    },
    {
     "cell_type": "code",
     "collapsed": false,
     "input": [
      "img1 = imread(path1);\n",
      "img2 = imread(path2);\n",
      "img3 = imread(path3);\n",
      "img4 = imread(path4);\n",
      "img5 = imread(path5);\n",
      "img6 = imread(path6);"
     ],
     "language": "python",
     "metadata": {},
     "outputs": [],
     "prompt_number": 4
    },
    {
     "cell_type": "code",
     "collapsed": false,
     "input": [
      "#PyPlot.figure()\n",
      "#PyPlot.imshow(convert(Array,img1))"
     ],
     "language": "python",
     "metadata": {},
     "outputs": [],
     "prompt_number": 5
    },
    {
     "cell_type": "code",
     "collapsed": false,
     "input": [
      "#Plots con Matplotlib \u00a1\u00a1\u00a1\n",
      "fig = PyPlot.figure(figsize=(10,10))\n",
      "#PyPlot.subplots_adjust(hspace=0.5) # Set the vertical spacing between axes\n",
      "\n",
      "PyPlot.subplot(231)\n",
      "PyPlot.title(\"Figura 1\")\n",
      "PyPlot.imshow(img1)\n",
      "\n",
      "PyPlot.subplot(232)\n",
      "PyPlot.title(\"Figura 2\")\n",
      "PyPlot.imshow(img2)\n",
      "\n",
      "PyPlot.subplot(233)\n",
      "PyPlot.title(\"Figura 3\")\n",
      "PyPlot.imshow(img3)\n",
      "\n",
      "PyPlot.subplot(234)\n",
      "PyPlot.title(\"Figura 4\")\n",
      "PyPlot.imshow(img4)\n",
      "\n",
      "PyPlot.subplot(235)\n",
      "PyPlot.title(\"Figura 5\")\n",
      "PyPlot.imshow(img5)\n",
      "\n",
      "PyPlot.subplot(236)\n",
      "PyPlot.title(\"Figura 6\")\n",
      "PyPlot.imshow(img6)"
     ],
     "language": "python",
     "metadata": {},
     "outputs": [
      {
       "ename": "LoadError",
       "evalue": "PyError (:PyObject_Call) <type 'exceptions.TypeError'>\nTypeError(u'Image data can not convert to float',)\n  File \"/home/elsuizo/anaconda/lib/python2.7/site-packages/matplotlib/pyplot.py\", line 2955, in imshow\n    imlim=imlim, resample=resample, url=url, **kwargs)\n  File \"/home/elsuizo/anaconda/lib/python2.7/site-packages/matplotlib/axes/_axes.py\", line 4630, in imshow\n    im.set_data(X)\n  File \"/home/elsuizo/anaconda/lib/python2.7/site-packages/matplotlib/image.py\", line 430, in set_data\n    raise TypeError(\"Image data can not convert to float\")\n\nwhile loading In[7], in expression starting on line 7",
       "output_type": "pyerr",
       "traceback": [
        "PyError (:PyObject_Call) <type 'exceptions.TypeError'>\nTypeError(u'Image data can not convert to float',)\n  File \"/home/elsuizo/anaconda/lib/python2.7/site-packages/matplotlib/pyplot.py\", line 2955, in imshow\n    imlim=imlim, resample=resample, url=url, **kwargs)\n  File \"/home/elsuizo/anaconda/lib/python2.7/site-packages/matplotlib/axes/_axes.py\", line 4630, in imshow\n    im.set_data(X)\n  File \"/home/elsuizo/anaconda/lib/python2.7/site-packages/matplotlib/image.py\", line 430, in set_data\n    raise TypeError(\"Image data can not convert to float\")\n\nwhile loading In[7], in expression starting on line 7",
        "",
        " in getindex at /home/elsuizo/.julia/v0.3/PyCall/src/PyCall.jl:249",
        " in pysequence_query at /home/elsuizo/.julia/v0.3/PyCall/src/conversions.jl:748",
        " in pytype_query at /home/elsuizo/.julia/v0.3/PyCall/src/conversions.jl:764",
        " in convert at /home/elsuizo/.julia/v0.3/PyCall/src/conversions.jl:814",
        " in pycall at /home/elsuizo/.julia/v0.3/PyCall/src/PyCall.jl:412",
        " in fn at /home/elsuizo/.julia/v0.3/PyCall/src/conversions.jl:181",
        " in close_queued_figs at /home/elsuizo/.julia/v0.3/PyPlot/src/PyPlot.jl:295"
       ]
      }
     ],
     "prompt_number": 7
    },
    {
     "cell_type": "code",
     "collapsed": false,
     "input": [],
     "language": "python",
     "metadata": {},
     "outputs": [],
     "prompt_number": 9
    }
   ],
   "metadata": {}
  }
 ]
}
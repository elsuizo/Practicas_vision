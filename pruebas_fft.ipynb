{
 "metadata": {
  "name": ""
 },
 "nbformat": 3,
 "nbformat_minor": 0,
 "worksheets": [
  {
   "cells": [
    {
     "cell_type": "code",
     "collapsed": false,
     "input": [
      "import cv2\n",
      "#from scipy import fftpack\n",
      "\n",
      "%pylab inline"
     ],
     "language": "python",
     "metadata": {},
     "outputs": [
      {
       "output_type": "stream",
       "stream": "stdout",
       "text": [
        "Populating the interactive namespace from numpy and matplotlib\n"
       ]
      }
     ],
     "prompt_number": 11
    },
    {
     "cell_type": "code",
     "collapsed": false,
     "input": [
      "def dftuv(M,N):\n",
      "    \"\"\"\n",
      "Funcion para realizar meshgrids de frecuencias(Gonzalez, Goods, pag:128)\n",
      "Parametros:\n",
      "------------------------------------------------------------------------\n",
      "M : entero\n",
      "Dimension en U\n",
      "N : entero\n",
      "Dimension en V\n",
      "Salida\n",
      "------------------------------------------------------------------------\n",
      "meshgrid ---> U, V\n",
      "\n",
      "\"\"\"\n",
      "    u = np.arange(0,M)\n",
      "    v = np.arange(0,N)\n",
      "    \n",
      "    idx = np.where(u > M/2)\n",
      "    u[idx] = u[idx] - M\n",
      "    idy = np.where(v > N/2)\n",
      "    v[idy] = v[idy] - N\n",
      "    \n",
      "    V, U = np.meshgrid(v,u)\n",
      "    \n",
      "    return V,U"
     ],
     "language": "python",
     "metadata": {},
     "outputs": [],
     "prompt_number": 3
    },
    {
     "cell_type": "code",
     "collapsed": false,
     "input": [
      "U,V = dftuv(8,5)\n",
      "im1 = cv2.imread('Imagenes/baboon.jpg',0)"
     ],
     "language": "python",
     "metadata": {},
     "outputs": [],
     "prompt_number": 30
    },
    {
     "cell_type": "code",
     "collapsed": false,
     "input": [
      "D = np.sqrt(U**2 + V**2)\n",
      "D_0 = 4\n"
     ],
     "language": "python",
     "metadata": {},
     "outputs": [],
     "prompt_number": 65
    },
    {
     "cell_type": "code",
     "collapsed": false,
     "input": [
      "H = ones_like(im1)\n",
      "H = (D <= D_0)\n",
      "H.astype(float32)"
     ],
     "language": "python",
     "metadata": {},
     "outputs": [
      {
       "metadata": {},
       "output_type": "pyout",
       "prompt_number": 66,
       "text": [
        "array([[ 1.,  1.,  1.,  1.,  1.],\n",
        "       [ 1.,  1.,  1.,  1.,  1.],\n",
        "       [ 1.,  1.,  1.,  1.,  1.],\n",
        "       [ 1.,  1.,  1.,  1.,  1.],\n",
        "       [ 1.,  0.,  0.,  0.,  0.],\n",
        "       [ 1.,  1.,  1.,  1.,  1.],\n",
        "       [ 1.,  1.,  1.,  1.,  1.],\n",
        "       [ 1.,  1.,  1.,  1.,  1.]], dtype=float32)"
       ]
      }
     ],
     "prompt_number": 66
    },
    {
     "cell_type": "code",
     "collapsed": false,
     "input": [
      "H_sift = fft.fftshift(H)\n",
      "H_sift.astype(float32)\n",
      "N,M = H_sift.shape\n",
      "N\n"
     ],
     "language": "python",
     "metadata": {},
     "outputs": [
      {
       "metadata": {},
       "output_type": "pyout",
       "prompt_number": 73,
       "text": [
        "8"
       ]
      }
     ],
     "prompt_number": 73
    },
    {
     "cell_type": "code",
     "collapsed": false,
     "input": [
      "F = fftpack.fft2(im1)\n",
      "F_shift = fft.fftshift(F)\n",
      "F_shift.shape"
     ],
     "language": "python",
     "metadata": {},
     "outputs": [
      {
       "metadata": {},
       "output_type": "pyout",
       "prompt_number": 68,
       "text": [
        "(512, 512)"
       ]
      }
     ],
     "prompt_number": 68
    },
    {
     "cell_type": "code",
     "collapsed": false,
     "input": [
      "rows, cols = im1.shape\n",
      "crow, ccol = row/2, cols/2\n",
      "\n",
      "F_shift[]\n"
     ],
     "language": "python",
     "metadata": {},
     "outputs": [],
     "prompt_number": 69
    },
    {
     "cell_type": "code",
     "collapsed": false,
     "input": [
      "F_ishift = np.fft.ifftshift(G)\n",
      "F_ishift.shape\n"
     ],
     "language": "python",
     "metadata": {},
     "outputs": [
      {
       "metadata": {},
       "output_type": "pyout",
       "prompt_number": 70,
       "text": [
        "(36,)"
       ]
      }
     ],
     "prompt_number": 70
    },
    {
     "cell_type": "code",
     "collapsed": false,
     "input": [
      "def lpfilter_ideal(M,N,D_0):\n",
      "    \"\"\" \"\"\"\n",
      "    \n",
      "    U,V = dftuv(M,N)\n",
      "    \n",
      "    D = np.sqrt(U**2 + V**2)\n",
      "    \n",
      "    H = "
     ],
     "language": "python",
     "metadata": {},
     "outputs": []
    }
   ],
   "metadata": {}
  }
 ]
}
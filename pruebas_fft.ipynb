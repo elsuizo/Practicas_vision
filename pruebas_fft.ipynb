{
 "metadata": {
  "name": ""
 },
 "nbformat": 3,
 "nbformat_minor": 0,
 "worksheets": [
  {
   "cells": [
    {
     "cell_type": "code",
     "collapsed": false,
     "input": [
      "import cv2\n",
      "#from scipy import fftpack\n",
      "\n",
      "%pylab inline"
     ],
     "language": "python",
     "metadata": {},
     "outputs": [
      {
       "output_type": "stream",
       "stream": "stdout",
       "text": [
        "Populating the interactive namespace from numpy and matplotlib\n"
       ]
      }
     ],
     "prompt_number": 1
    },
    {
     "cell_type": "code",
     "collapsed": false,
     "input": [
      "def dftuv(M,N):\n",
      "    \"\"\"\n",
      "Funcion para realizar meshgrids de frecuencias(Gonzalez, Goods, pag:128)\n",
      "Parametros:\n",
      "------------------------------------------------------------------------\n",
      "M : entero\n",
      "Dimension en U\n",
      "N : entero\n",
      "Dimension en V\n",
      "Salida\n",
      "------------------------------------------------------------------------\n",
      "meshgrid ---> U, V\n",
      "\n",
      "\"\"\"\n",
      "    u = np.arange(0,M)\n",
      "    v = np.arange(0,N)\n",
      "    \n",
      "    idx = np.where(u > M/2)\n",
      "    u[idx] = u[idx] - M\n",
      "    idy = np.where(v > N/2)\n",
      "    v[idy] = v[idy] - N\n",
      "    \n",
      "    V, U = np.meshgrid(v,u)\n",
      "    \n",
      "    return V,U"
     ],
     "language": "python",
     "metadata": {},
     "outputs": [],
     "prompt_number": 49
    },
    {
     "cell_type": "code",
     "collapsed": false,
     "input": [
      "U,V = dftuv(100,100)\n",
      "im1 = cv2.imread('Imagenes/baboon.jpg',0)"
     ],
     "language": "python",
     "metadata": {},
     "outputs": [],
     "prompt_number": 50
    },
    {
     "cell_type": "code",
     "collapsed": false,
     "input": [
      "D = np.sqrt(U**2 + V**2)\n",
      "#cutoff frecuency \n",
      "D_0 = 100\n"
     ],
     "language": "python",
     "metadata": {},
     "outputs": [],
     "prompt_number": 56
    },
    {
     "cell_type": "code",
     "collapsed": false,
     "input": [
      "H = ones_like(im1)\n",
      "H = (D <= D_0)\n",
      "H.astype(float32)"
     ],
     "language": "python",
     "metadata": {},
     "outputs": [
      {
       "metadata": {},
       "output_type": "pyout",
       "prompt_number": 57,
       "text": [
        "array([[ 1.,  1.,  1., ...,  1.,  1.,  1.],\n",
        "       [ 1.,  1.,  1., ...,  1.,  1.,  1.],\n",
        "       [ 1.,  1.,  1., ...,  1.,  1.,  1.],\n",
        "       ..., \n",
        "       [ 1.,  1.,  1., ...,  1.,  1.,  1.],\n",
        "       [ 1.,  1.,  1., ...,  1.,  1.,  1.],\n",
        "       [ 1.,  1.,  1., ...,  1.,  1.,  1.]], dtype=float32)"
       ]
      }
     ],
     "prompt_number": 57
    },
    {
     "cell_type": "code",
     "collapsed": false,
     "input": [
      "H_shift = fft.fftshift(H)\n",
      "H_shift.astype(float32)\n",
      "H_shift.shape\n"
     ],
     "language": "python",
     "metadata": {},
     "outputs": [
      {
       "metadata": {},
       "output_type": "pyout",
       "prompt_number": 63,
       "text": [
        "(100, 100)"
       ]
      }
     ],
     "prompt_number": 63
    },
    {
     "cell_type": "code",
     "collapsed": false,
     "input": [
      "rows, cols = im1.shape\n",
      "mask = np.zeros((rows, cols),np.uint8)\n",
      "\n",
      "crow,ccol = rows/2 , cols/2\n",
      "filas, columnas = H_sift.shape\n",
      "N,M = filas/2 , columnas/2\n",
      "\n",
      "mask[crow-D_0/2:crow+D_0/2,ccol-D_0/2:ccol+D_0/2]= H_shift[:]\n",
      "\n",
      "plt.imshow(mask, cmap='gray')"
     ],
     "language": "python",
     "metadata": {},
     "outputs": [
      {
       "metadata": {},
       "output_type": "pyout",
       "prompt_number": 67,
       "text": [
        "<matplotlib.image.AxesImage at 0x7232a50>"
       ]
      },
      {
       "metadata": {},
       "output_type": "display_data",
       "png": "[encoded data removed]",
       "text": [
        "<matplotlib.figure.Figure at 0x71a1a90>"
       ]
      }
     ],
     "prompt_number": 67
    },
    {
     "cell_type": "code",
     "collapsed": false,
     "input": [
      "def lpfilter_ideal(M,N,D_0):\n",
      "    \"\"\" \"\"\"\n",
      "    \n",
      "    U,V = dftuv(M,N)\n",
      "    \n",
      "    D = np.sqrt(U**2 + V**2)\n",
      "    \n",
      "    H = "
     ],
     "language": "python",
     "metadata": {},
     "outputs": []
    },
    {
     "cell_type": "code",
     "collapsed": false,
     "input": [],
     "language": "python",
     "metadata": {},
     "outputs": []
    }
   ],
   "metadata": {}
  }
 ]
}
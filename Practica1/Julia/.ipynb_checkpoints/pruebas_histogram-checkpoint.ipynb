{
 "metadata": {
  "name": "",
  "signature": "sha256:a8407222656ca5943007d02c0ef9d41d7e250bb90d7357c8a5a71acf4f77787b"
 },
 "nbformat": 3,
 "nbformat_minor": 0,
 "worksheets": []
}
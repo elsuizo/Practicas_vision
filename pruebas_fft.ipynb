{
 "metadata": {
  "name": ""
 },
 "nbformat": 3,
 "nbformat_minor": 0,
 "worksheets": [
  {
   "cells": [
    {
     "cell_type": "code",
     "collapsed": false,
     "input": [
      "import cv2\n",
      "#from scipy import fftpack\n",
      "\n",
      "%pylab inline"
     ],
     "language": "python",
     "metadata": {},
     "outputs": [
      {
       "output_type": "stream",
       "stream": "stdout",
       "text": [
        "Populating the interactive namespace from numpy and matplotlib\n"
       ]
      }
     ],
     "prompt_number": 1
    },
    {
     "cell_type": "code",
     "collapsed": false,
     "input": [
      "def dftuv(M,N):\n",
      "    \"\"\"\n",
      "Funcion para realizar meshgrids de frecuencias(Gonzalez, Goods, pag:128)\n",
      "Parametros:\n",
      "------------------------------------------------------------------------\n",
      "M : entero\n",
      "Dimension en U\n",
      "N : entero\n",
      "Dimension en V\n",
      "Salida\n",
      "------------------------------------------------------------------------\n",
      "meshgrid ---> U, V\n",
      "\n",
      "\"\"\"\n",
      "    u = np.arange(0,M)\n",
      "    v = np.arange(0,N)\n",
      "    \n",
      "    idx = np.where(u >= M/2)\n",
      "    u[idx] = u[idx] - M\n",
      "    idy = np.where(v >= N/2)\n",
      "    v[idy] = v[idy] - N\n",
      "    \n",
      "    V, U = np.meshgrid(v,u)\n",
      "    \n",
      "    return V,U"
     ],
     "language": "python",
     "metadata": {},
     "outputs": [],
     "prompt_number": 45
    },
    {
     "cell_type": "code",
     "collapsed": false,
     "input": [
      "im1 = cv2.imread('Imagenes/baboon.jpg',0)\n",
      "M,N = im1.shape\n",
      "U,V = dftuv(M,N)"
     ],
     "language": "python",
     "metadata": {},
     "outputs": [],
     "prompt_number": 81
    },
    {
     "cell_type": "code",
     "collapsed": false,
     "input": [
      "D = np.sqrt(U**2 + V**2)\n",
      "#cutoff frecuency \n",
      "D_0 = 50\n"
     ],
     "language": "python",
     "metadata": {},
     "outputs": [],
     "prompt_number": 88
    },
    {
     "cell_type": "code",
     "collapsed": false,
     "input": [
      "H = (D <= D_0)\n",
      "\n",
      "#H_big[(H==True)] = H_big\n",
      "\n",
      "\n",
      "H.shape\n"
     ],
     "language": "python",
     "metadata": {},
     "outputs": [
      {
       "metadata": {},
       "output_type": "pyout",
       "prompt_number": 89,
       "text": [
        "(512, 512)"
       ]
      }
     ],
     "prompt_number": 89
    },
    {
     "cell_type": "code",
     "collapsed": false,
     "input": [
      "H_shift = fft.fftshift(H)\n",
      "\n",
      "H_shift.shape"
     ],
     "language": "python",
     "metadata": {},
     "outputs": [
      {
       "metadata": {},
       "output_type": "pyout",
       "prompt_number": 92,
       "text": [
        "(512, 512)"
       ]
      }
     ],
     "prompt_number": 92
    },
    {
     "cell_type": "code",
     "collapsed": false,
     "input": [
      "plt.imshow(H_shift,cmap='gray')"
     ],
     "language": "python",
     "metadata": {},
     "outputs": [
      {
       "metadata": {},
       "output_type": "pyout",
       "prompt_number": 93,
       "text": [
        "<matplotlib.image.AxesImage at 0x7558a90>"
       ]
      },
      {
       "metadata": {},
       "output_type": "display_data",
       "png": "[encoded data removed]",
       "text": [
        "<matplotlib.figure.Figure at 0x569ef50>"
       ]
      }
     ],
     "prompt_number": 93
    },
    {
     "cell_type": "code",
     "collapsed": false,
     "input": [
      "def lpfilter_ideal(M,N,D_0):\n",
      "    \"\"\" \"\"\"\n",
      "    \n",
      "    U,V = dftuv(M,N)\n",
      "    \n",
      "    D = np.sqrt(U**2 + V**2)\n",
      "    \n",
      "    H = "
     ],
     "language": "python",
     "metadata": {},
     "outputs": []
    },
    {
     "cell_type": "code",
     "collapsed": false,
     "input": [
      "M = 10\n",
      "N = 10\n",
      "u = np.arange(0,M)\n",
      "v = np.arange(0,N)\n",
      "\n",
      "v\n"
     ],
     "language": "python",
     "metadata": {},
     "outputs": [
      {
       "metadata": {},
       "output_type": "pyout",
       "prompt_number": 43,
       "text": [
        "array([0, 1, 2, 3, 4, 5, 6, 7, 8, 9])"
       ]
      }
     ],
     "prompt_number": 43
    },
    {
     "cell_type": "code",
     "collapsed": false,
     "input": [
      "idx = np.where(u >= M/2)\n",
      "u[idx] = u[idx] - M\n",
      "u[idx]\n",
      "\n"
     ],
     "language": "python",
     "metadata": {},
     "outputs": [
      {
       "metadata": {},
       "output_type": "pyout",
       "prompt_number": 44,
       "text": [
        "array([-5, -4, -3, -2, -1])"
       ]
      }
     ],
     "prompt_number": 44
    },
    {
     "cell_type": "code",
     "collapsed": false,
     "input": [
      "\n"
     ],
     "language": "python",
     "metadata": {},
     "outputs": []
    }
   ],
   "metadata": {}
  }
 ]
}
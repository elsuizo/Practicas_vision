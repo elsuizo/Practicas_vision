{
 "metadata": {
  "name": "ejercicio2_p1"
 },
 "nbformat": 3,
 "nbformat_minor": 0,
 "worksheets": [
  {
   "cells": [
    {
     "cell_type": "heading",
     "level": 1,
     "metadata": {},
     "source": [
      "Practica 1  \n",
      "\n",
      " \n",
      "Ejercicio 2 "
     ]
    },
    {
     "cell_type": "heading",
     "level": 3,
     "metadata": {},
     "source": [
      "2. Mostrar el efecto del ruido producido en una sola imagen que se toma con bajas condiciones de iluminaci\u00f3n: Mostrar el efecto en la imagen y realizar un gr\u00e1fico en 2D donde muestre un sector de la im\u00e1gen de $1$ por $x$ pixeles."
     ]
    },
    {
     "cell_type": "code",
     "collapsed": false,
     "input": [
      "%pylab inline"
     ],
     "language": "python",
     "metadata": {},
     "outputs": [
      {
       "output_type": "stream",
       "stream": "stdout",
       "text": [
        "\n",
        "Welcome to pylab, a matplotlib-based Python environment [backend: module://IPython.zmq.pylab.backend_inline].\n",
        "For more information, type 'help(pylab)'.\n"
       ]
      }
     ],
     "prompt_number": 6
    },
    {
     "cell_type": "code",
     "collapsed": false,
     "input": [
      "#Imports\n",
      "#******************************************************************************\n",
      "import cv2\n",
      "import numpy as np\n",
      "import matplotlib.pyplot as plt\n",
      "import matplotlib.image as mpimg\n",
      "#******************************************************************************"
     ],
     "language": "python",
     "metadata": {},
     "outputs": [],
     "prompt_number": 7
    },
    {
     "cell_type": "code",
     "collapsed": false,
     "input": [
      "#imagen sacada con bajo nivel de iluminacion\n",
      "path3 = 'Imagenes/sci-4.bmp'"
     ],
     "language": "python",
     "metadata": {},
     "outputs": [],
     "prompt_number": 8
    },
    {
     "cell_type": "code",
     "collapsed": false,
     "input": [
      "#vamos a demostrar como se amplifica el ruido en el sensor ccd\n",
      "\n",
      "img3_opencv = cv2.imread(path3, cv2.CV_LOAD_IMAGE_GRAYSCALE)\n",
      "img3_matplot = mpimg.imread(path3)  # leemos con matplotlib(python puro)\n",
      "\n",
      "#extraigo toda la fila 37\n",
      "row_37 = img3_opencv[37, :]  # Slicing"
     ],
     "language": "python",
     "metadata": {},
     "outputs": [],
     "prompt_number": 9
    },
    {
     "cell_type": "code",
     "collapsed": false,
     "input": [
      "#plots\n",
      "#******************************************************************************\n",
      "fig, array_ax = plt.subplots(1, 3)\n",
      "array_ax[0].plot(row_37)\n",
      "array_ax[1].imshow(img3_opencv)\n",
      "array_ax[2].imshow(img3_matplot)\n",
      "#plt.show()"
     ],
     "language": "python",
     "metadata": {},
     "outputs": [
      {
       "output_type": "pyout",
       "prompt_number": 11,
       "text": [
        "<matplotlib.image.AxesImage at 0xbb04cec>"
       ]
      }
     ],
     "prompt_number": 11
    },
    {
     "cell_type": "code",
     "collapsed": false,
     "input": [],
     "language": "python",
     "metadata": {},
     "outputs": []
    }
   ],
   "metadata": {}
  }
 ]
}
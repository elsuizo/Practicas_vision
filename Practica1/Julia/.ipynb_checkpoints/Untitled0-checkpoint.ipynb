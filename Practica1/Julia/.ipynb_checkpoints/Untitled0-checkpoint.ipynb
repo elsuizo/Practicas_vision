{
 "metadata": {
  "name": "",
  "signature": "sha256:393766f77df510c5173b6cea5c3b8272a9f03599b609d7426944366d3c269855"
 },
 "nbformat": 3,
 "nbformat_minor": 0,
 "worksheets": []
}